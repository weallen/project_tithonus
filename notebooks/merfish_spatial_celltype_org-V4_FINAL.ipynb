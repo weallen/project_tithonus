version https://git-lfs.github.com/spec/v1
oid sha256:e11662b81b71e7c2d48aac8f42f53f65db6c597154a40b78afc18a6042f8ed52
size 1320850
